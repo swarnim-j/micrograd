{
 "cells": [
  {
   "cell_type": "code",
   "execution_count": null,
   "metadata": {},
   "outputs": [],
   "source": [
    "class Value:\n",
    "\n",
    "    def __init__(self, data, _children=(), _op=''):\n",
    "        self.data = data\n",
    "        self._prev = set(_children)\n",
    "        self._backward = lambda: None # stores function that's why lambda needed\n",
    "        self._op = _op\n",
    "        self.grad = 0\n",
    "\n",
    "\n",
    "    def __add__(self, other):\n",
    "\n",
    "        other = other if isinstance(other, Value) else Value(other) # handles case where you add a non-Value object\n",
    "        out = Value(self.data + other.data, (self, other), '+')\n",
    "\n",
    "        def _backward():\n",
    "            self.grad += 1\n",
    "            other.grad += 1\n",
    "\n",
    "        self._backward = _backward # storing the function '_backward()'\n",
    "\n",
    "        return out\n",
    "        \n",
    "\n",
    "        "
   ]
  }
 ],
 "metadata": {
  "language_info": {
   "name": "python"
  },
  "orig_nbformat": 4
 },
 "nbformat": 4,
 "nbformat_minor": 2
}
